{
  "nbformat": 4,
  "nbformat_minor": 0,
  "metadata": {
    "colab": {
      "name": "shoe_ipynb_2",
      "provenance": [],
      "collapsed_sections": [],
      "authorship_tag": "ABX9TyMiCm6sUA6f3/fq62Xu6gU3",
      "include_colab_link": true
    },
    "kernelspec": {
      "name": "python3",
      "display_name": "Python 3"
    },
    "language_info": {
      "name": "python"
    }
  },
  "cells": [
    {
      "cell_type": "markdown",
      "metadata": {
        "id": "view-in-github",
        "colab_type": "text"
      },
      "source": [
        "<a href=\"https://colab.research.google.com/github/laquita44/big-data-challenge/blob/main/shoe_ipynb_2.ipynb\" target=\"_parent\"><img src=\"https://colab.research.google.com/assets/colab-badge.svg\" alt=\"Open In Colab\"/></a>"
      ]
    },
    {
      "cell_type": "code",
      "execution_count": 49,
      "metadata": {
        "id": "Yk5x0_rsBz6g",
        "colab": {
          "base_uri": "https://localhost:8080/"
        },
        "outputId": "1f7aee8e-592a-48b2-ebb3-79d374eb4ca0"
      },
      "outputs": [
        {
          "output_type": "stream",
          "name": "stdout",
          "text": [
            "\r0% [Working]\r            \rHit:1 https://cloud.r-project.org/bin/linux/ubuntu bionic-cran40/ InRelease\n",
            "Ign:2 https://developer.download.nvidia.com/compute/cuda/repos/ubuntu1804/x86_64  InRelease\n",
            "Hit:3 http://archive.ubuntu.com/ubuntu bionic InRelease\n",
            "Get:4 http://security.ubuntu.com/ubuntu bionic-security InRelease [88.7 kB]\n",
            "Ign:5 https://developer.download.nvidia.com/compute/machine-learning/repos/ubuntu1804/x86_64  InRelease\n",
            "Hit:6 https://developer.download.nvidia.com/compute/cuda/repos/ubuntu1804/x86_64  Release\n",
            "Hit:7 http://ppa.launchpad.net/c2d4u.team/c2d4u4.0+/ubuntu bionic InRelease\n",
            "Hit:8 https://developer.download.nvidia.com/compute/machine-learning/repos/ubuntu1804/x86_64  Release\n",
            "Get:9 http://archive.ubuntu.com/ubuntu bionic-updates InRelease [88.7 kB]\n",
            "Hit:10 http://ppa.launchpad.net/cran/libgit2/ubuntu bionic InRelease\n",
            "Hit:11 http://ppa.launchpad.net/deadsnakes/ppa/ubuntu bionic InRelease\n",
            "Get:12 http://archive.ubuntu.com/ubuntu bionic-backports InRelease [74.6 kB]\n",
            "Hit:13 http://ppa.launchpad.net/graphics-drivers/ppa/ubuntu bionic InRelease\n",
            "Fetched 252 kB in 3s (90.3 kB/s)\n",
            "Reading package lists... Done\n"
          ]
        }
      ],
      "source": [
        "import os\n",
        "# Find the latest version of spark 3.0  from http://www.apache.org/dist/spark/ and enter as the spark version\n",
        "# For example:\n",
        "spark_version = 'spark-3.0.3'\n",
        "# spark_version = 'spark-3.<enter version>'\n",
        "os.environ['SPARK_VERSION']=spark_version\n",
        "\n",
        "# Install Spark and Java\n",
        "!apt-get update\n",
        "!apt-get install openjdk-8-jdk-headless -qq > /dev/null\n",
        "!wget -q http://www.apache.org/dist/spark/$SPARK_VERSION/$SPARK_VERSION-bin-hadoop2.7.tgz\n",
        "!tar xf $SPARK_VERSION-bin-hadoop2.7.tgz\n",
        "!pip install -q findspark\n",
        "\n",
        "# Set Environment Variables\n",
        "import os\n",
        "os.environ[\"JAVA_HOME\"] = \"/usr/lib/jvm/java-8-openjdk-amd64\"\n",
        "os.environ[\"SPARK_HOME\"] = f\"/content/{spark_version}-bin-hadoop2.7\"\n",
        "\n",
        "# Start a SparkSession\n",
        "import findspark\n",
        "findspark.init()"
      ]
    },
    {
      "cell_type": "code",
      "source": [
        "# For connection to Postgres run the following code \n",
        "!wget https://jdbc.postgresql.org/download/postgresql-42.2.9.jar"
      ],
      "metadata": {
        "colab": {
          "base_uri": "https://localhost:8080/"
        },
        "id": "OOO36c2-N9Py",
        "outputId": "0450f061-7cad-4089-d908-a90cca6ada60"
      },
      "execution_count": 50,
      "outputs": [
        {
          "output_type": "stream",
          "name": "stdout",
          "text": [
            "--2022-04-09 00:20:01--  https://jdbc.postgresql.org/download/postgresql-42.2.9.jar\n",
            "Resolving jdbc.postgresql.org (jdbc.postgresql.org)... 72.32.157.228, 2001:4800:3e1:1::228\n",
            "Connecting to jdbc.postgresql.org (jdbc.postgresql.org)|72.32.157.228|:443... connected.\n",
            "HTTP request sent, awaiting response... 200 OK\n",
            "Length: 914037 (893K) [application/java-archive]\n",
            "Saving to: ‘postgresql-42.2.9.jar.2’\n",
            "\n",
            "postgresql-42.2.9.j 100%[===================>] 892.61K  --.-KB/s    in 0.08s   \n",
            "\n",
            "2022-04-09 00:20:02 (10.3 MB/s) - ‘postgresql-42.2.9.jar.2’ saved [914037/914037]\n",
            "\n"
          ]
        }
      ]
    },
    {
      "cell_type": "code",
      "source": [
        "from pyspark.sql import SparkSession\n",
        "spark = SparkSession.builder.appName(\"CloudETL\").config(\"spark.driver.extraClassPath\",\"/content/postgresql-42.2.9.jar\").getOrCreate()\n"
      ],
      "metadata": {
        "id": "Maqm8zpapblO"
      },
      "execution_count": 51,
      "outputs": []
    },
    {
      "cell_type": "code",
      "source": [
        "# Read in data from S3 Buckets\n",
        "from pyspark import SparkFiles\n",
        "url = \"https://shoe-inventory-1.s3.us-west-2.amazonaws.com/amazon_reviews_us_Shoes_v1_00.tsv.gz\"\n",
        "spark.sparkContext.addFile(url)\n",
        "\n",
        "# Show Dataframe\n",
        "shoes_df = spark.read.option('header', 'true').csv(SparkFiles.get(\"amazon_reviews_us_Shoes_v1_00.tsv.gz\"), inferSchema=True, sep='\\t', timestampFormat=\"yyyy-mm-dd\")\n",
        "shoes_df.show()\n",
        "\n"
      ],
      "metadata": {
        "colab": {
          "base_uri": "https://localhost:8080/"
        },
        "id": "oFxDy_ceqZP7",
        "outputId": "ffb89051-e875-4659-a8b9-d0499f6022d0"
      },
      "execution_count": 52,
      "outputs": [
        {
          "output_type": "stream",
          "name": "stdout",
          "text": [
            "+-----------+-----------+--------------+----------+--------------+--------------------+----------------+-----------+-------------+-----------+----+-----------------+--------------------+--------------------+-------------------+\n",
            "|marketplace|customer_id|     review_id|product_id|product_parent|       product_title|product_category|star_rating|helpful_votes|total_votes|vine|verified_purchase|     review_headline|         review_body|        review_date|\n",
            "+-----------+-----------+--------------+----------+--------------+--------------------+----------------+-----------+-------------+-----------+----+-----------------+--------------------+--------------------+-------------------+\n",
            "|         US|   18069663|R3P2HIOQCIN5ZU|B000XB31C0|     265024781|Minnetonka Men's ...|           Shoes|          1|            0|          0|   N|                Y|                   .|Do not buy: reall...|2015-01-31 00:08:00|\n",
            "|         US|   16251825|R12VVR0WH5Q24V|B00CFYZH5W|     259035853|Teva Men's Pajaro...|           Shoes|          5|            0|          0|   N|                Y|     super flip flop|provides great cu...|2015-01-31 00:08:00|\n",
            "|         US|   20381037| RNCCKB6TV5EEF|B00S8JNN3Q|     666066660|Anne Klein Perfec...|           Shoes|          4|            0|          0|   N|                Y| Great clutch purse!|It's perfect if y...|2015-01-31 00:08:00|\n",
            "|         US|     108364|R2NZXYIVCGB13W|B00XFBPOQG|     448483263|adidas Men's 10K ...|           Shoes|          5|            0|          6|   N|                Y|              Badass|  Getting what u see|2015-01-31 00:08:00|\n",
            "|         US|   45449350|R2EQ1TG9IT3OEQ|B00SW64Y9W|       7853171|OverBling Sneaker...|           Shoes|          3|            0|          0|   N|                Y|         Three Stars|               small|2015-01-31 00:08:00|\n",
            "|         US|   19324665|R1WXA9JSC2H1U1|B011F9E6LI|      14311457|MESSI 15.3 FG/AG ...|           Shoes|          5|            1|          1|   N|                Y|          Five Stars|My 13 year old so...|2015-01-31 00:08:00|\n",
            "|         US|   50073594|R12ENYLFGGNWRV|B00HAUP1OI|     264821602|Hoka One One Men'...|           Shoes|          5|            1|          1|   N|                Y|Finally, some cus...|Ok, I have been s...|2015-01-31 00:08:00|\n",
            "|         US|   21706057|R2R07E5PNXEUO5|B00L1RKOKW|     767118055|Olukai Nohea Mesh...|           Shoes|          4|            0|          0|   N|                Y|good deal, but ha...|I went a full siz...|2015-01-31 00:08:00|\n",
            "|         US|   13708216|R27BA52AKWMWN3|B005WA9MSE|     813856438|Carolina Mens 6\" ...|           Shoes|          5|            0|          0|   N|                Y|... would have to...|I would have to s...|2015-01-31 00:08:00|\n",
            "|         US|   40542649| RLF8DOID2KD5O|B00BEYQI5C|     661491213|Alegria Women's S...|           Shoes|          3|            0|          0|   N|                Y|           Too small|The size is misle...|2015-01-31 00:08:00|\n",
            "|         US|   13409446|R369CEXHXHC6NQ|B00EYAFTCQ|     332158165|Naturalizer Women...|           Shoes|          5|            0|          0|   N|                Y|          Five Stars|These shoes are v...|2015-01-31 00:08:00|\n",
            "|         US|    9451727|R171PPIJXFONVI|B00I0QHY32|      49243908|Forever Link Wome...|           Shoes|          5|            0|          0|   N|                Y|          Five Stars|I love these sand...|2015-01-31 00:08:00|\n",
            "|         US|     193731|R2JDNM8F2P06FU|B010FZZKYA|     161497902|Versace Collectio...|           Shoes|          4|            1|          1|   N|                Y|          Four Stars|Good quality shoe...|2015-01-31 00:08:00|\n",
            "|         US|   34798634|R2W977FO4M97XT|B00V8B30K2|     759958795|Twisted Girl's Ch...|           Shoes|          5|            0|          1|   N|                Y|Good shoes, comfo...|My daughter reall...|2015-01-31 00:08:00|\n",
            "|         US|   37235551|R3AM24QPLI28UY|B00LAVB1TC|     910150896|Travel Smart Hand...|           Shoes|          2|            1|          2|   N|                Y|           Two Stars|         It's okay .|2015-01-31 00:08:00|\n",
            "|         US|   27081399| REDVXSFYVNT5T|B003C1P8B0|     762792587|Saucony Originals...|           Shoes|          5|            0|          0|   N|                Y|    Love these shoes|Love these shoes!...|2015-01-31 00:08:00|\n",
            "|         US|     120678|R14AIIK7D6ENDZ|B000W3UL7W|     123724495|Dr. Marten's Wome...|           Shoes|          5|            0|          0|   N|                Y|          Five Stars|                Good|2015-01-31 00:08:00|\n",
            "|         US|   22272389|R3B1NURKMCVAL1|B00LX65PQO|     848850234|Skechers Performa...|           Shoes|          3|            2|          2|   N|                Y|         Three Stars|I like the go wal...|2015-01-31 00:08:00|\n",
            "|         US|   19584241|R14Q1GZGV10IMX|B00BEE7N3I|     211637196|Hi-Tec Kid's Nepa...|           Shoes|          4|            0|          0|   N|                Y|          Four Stars|Kids love them fo...|2015-01-31 00:08:00|\n",
            "|         US|   12334573| R9BHBB06QD6TM|B008NCHMBW|     138572112|Foot Sox Original...|           Shoes|          1|            2|          2|   N|                Y|Tissue paper is t...|Tissue paper is t...|2015-01-31 00:08:00|\n",
            "+-----------+-----------+--------------+----------+--------------+--------------------+----------------+-----------+-------------+-----------+----+-----------------+--------------------+--------------------+-------------------+\n",
            "only showing top 20 rows\n",
            "\n"
          ]
        }
      ]
    },
    {
      "cell_type": "code",
      "source": [
        "# Count the number of records (rows) in the dataset\n",
        "shoes_df.count()\n"
      ],
      "metadata": {
        "colab": {
          "base_uri": "https://localhost:8080/"
        },
        "id": "ff1DkNvouBkG",
        "outputId": "ecca3a11-e841-4d3e-c0ff-34ca3a561ab8"
      },
      "execution_count": 54,
      "outputs": [
        {
          "output_type": "execute_result",
          "data": {
            "text/plain": [
              "4366916"
            ]
          },
          "metadata": {},
          "execution_count": 54
        }
      ]
    },
    {
      "cell_type": "code",
      "source": [
        "# check data type for schema\n",
        "shoes_df.printSchema()"
      ],
      "metadata": {
        "colab": {
          "base_uri": "https://localhost:8080/"
        },
        "id": "av_H8i92uBHz",
        "outputId": "5d095c34-0c67-4241-ac0e-ea0ac072726d"
      },
      "execution_count": 55,
      "outputs": [
        {
          "output_type": "stream",
          "name": "stdout",
          "text": [
            "root\n",
            " |-- marketplace: string (nullable = true)\n",
            " |-- customer_id: integer (nullable = true)\n",
            " |-- review_id: string (nullable = true)\n",
            " |-- product_id: string (nullable = true)\n",
            " |-- product_parent: integer (nullable = true)\n",
            " |-- product_title: string (nullable = true)\n",
            " |-- product_category: string (nullable = true)\n",
            " |-- star_rating: integer (nullable = true)\n",
            " |-- helpful_votes: integer (nullable = true)\n",
            " |-- total_votes: integer (nullable = true)\n",
            " |-- vine: string (nullable = true)\n",
            " |-- verified_purchase: string (nullable = true)\n",
            " |-- review_headline: string (nullable = true)\n",
            " |-- review_body: string (nullable = true)\n",
            " |-- review_date: timestamp (nullable = true)\n",
            "\n"
          ]
        }
      ]
    },
    {
      "cell_type": "code",
      "source": [
        "# Transform the dataset to fit the tables in the schema file. Be sure the DataFrames match in data type and in column name\n",
        "from pyspark.sql.types import TimestampType, IntegerType\n",
        "\n",
        "shoes_df = shoes_df.withColumn(\"customer_id\", shoes_df[\"customer_id\"].cast(IntegerType()))\\\n",
        "       .withColumn(\"product_parent\", shoes_df[\"product_parent\"].cast(IntegerType()))\\\n",
        "       .withColumn(\"review_date\", shoes_df[\"review_date\"].cast(TimestampType()))\\\n",
        "       .withColumn(\"star_rating\", shoes_df[\"star_rating\"].cast(IntegerType()))\\\n",
        "       .withColumn(\"helpful_votes\", shoes_df[\"helpful_votes\"].cast(IntegerType()))\\\n",
        "       .withColumn(\"total_votes\", shoes_df[\"total_votes\"].cast(IntegerType()))\\"
      ],
      "metadata": {
        "id": "beCxp4IGmWRo"
      },
      "execution_count": 68,
      "outputs": []
    },
    {
      "cell_type": "code",
      "source": [
        "# Create DataFrame to match Schema table \"review_id_table\"\n",
        "review_id_table = shoes_df.select([\"review_id\", \"customer_id\", \"product_id\", \"product_parent\", \"review_date\"])\n",
        "review_id_table.show()"
      ],
      "metadata": {
        "colab": {
          "base_uri": "https://localhost:8080/"
        },
        "id": "mnVAHRhcgE97",
        "outputId": "3b60a7c4-5eaf-4dce-8865-fcaad4772cd4"
      },
      "execution_count": 69,
      "outputs": [
        {
          "output_type": "stream",
          "name": "stdout",
          "text": [
            "+--------------+-----------+----------+--------------+-------------------+\n",
            "|     review_id|customer_id|product_id|product_parent|        review_date|\n",
            "+--------------+-----------+----------+--------------+-------------------+\n",
            "|R3P2HIOQCIN5ZU|   18069663|B000XB31C0|     265024781|2015-01-31 00:08:00|\n",
            "|R12VVR0WH5Q24V|   16251825|B00CFYZH5W|     259035853|2015-01-31 00:08:00|\n",
            "| RNCCKB6TV5EEF|   20381037|B00S8JNN3Q|     666066660|2015-01-31 00:08:00|\n",
            "|R2NZXYIVCGB13W|     108364|B00XFBPOQG|     448483263|2015-01-31 00:08:00|\n",
            "|R2EQ1TG9IT3OEQ|   45449350|B00SW64Y9W|       7853171|2015-01-31 00:08:00|\n",
            "|R1WXA9JSC2H1U1|   19324665|B011F9E6LI|      14311457|2015-01-31 00:08:00|\n",
            "|R12ENYLFGGNWRV|   50073594|B00HAUP1OI|     264821602|2015-01-31 00:08:00|\n",
            "|R2R07E5PNXEUO5|   21706057|B00L1RKOKW|     767118055|2015-01-31 00:08:00|\n",
            "|R27BA52AKWMWN3|   13708216|B005WA9MSE|     813856438|2015-01-31 00:08:00|\n",
            "| RLF8DOID2KD5O|   40542649|B00BEYQI5C|     661491213|2015-01-31 00:08:00|\n",
            "|R369CEXHXHC6NQ|   13409446|B00EYAFTCQ|     332158165|2015-01-31 00:08:00|\n",
            "|R171PPIJXFONVI|    9451727|B00I0QHY32|      49243908|2015-01-31 00:08:00|\n",
            "|R2JDNM8F2P06FU|     193731|B010FZZKYA|     161497902|2015-01-31 00:08:00|\n",
            "|R2W977FO4M97XT|   34798634|B00V8B30K2|     759958795|2015-01-31 00:08:00|\n",
            "|R3AM24QPLI28UY|   37235551|B00LAVB1TC|     910150896|2015-01-31 00:08:00|\n",
            "| REDVXSFYVNT5T|   27081399|B003C1P8B0|     762792587|2015-01-31 00:08:00|\n",
            "|R14AIIK7D6ENDZ|     120678|B000W3UL7W|     123724495|2015-01-31 00:08:00|\n",
            "|R3B1NURKMCVAL1|   22272389|B00LX65PQO|     848850234|2015-01-31 00:08:00|\n",
            "|R14Q1GZGV10IMX|   19584241|B00BEE7N3I|     211637196|2015-01-31 00:08:00|\n",
            "| R9BHBB06QD6TM|   12334573|B008NCHMBW|     138572112|2015-01-31 00:08:00|\n",
            "+--------------+-----------+----------+--------------+-------------------+\n",
            "only showing top 20 rows\n",
            "\n"
          ]
        }
      ]
    },
    {
      "cell_type": "code",
      "source": [
        "# Create DataFrame to match Schema table \"products\"\n",
        "products = shoes_df.select([\"product_id\", \"product_title\"])\n",
        "products.show()"
      ],
      "metadata": {
        "colab": {
          "base_uri": "https://localhost:8080/"
        },
        "id": "4ICmpz3167cI",
        "outputId": "4252c074-8dc7-4f37-cdf7-a9dcdd3a1922"
      },
      "execution_count": 70,
      "outputs": [
        {
          "output_type": "stream",
          "name": "stdout",
          "text": [
            "+----------+--------------------+\n",
            "|product_id|       product_title|\n",
            "+----------+--------------------+\n",
            "|B000XB31C0|Minnetonka Men's ...|\n",
            "|B00CFYZH5W|Teva Men's Pajaro...|\n",
            "|B00S8JNN3Q|Anne Klein Perfec...|\n",
            "|B00XFBPOQG|adidas Men's 10K ...|\n",
            "|B00SW64Y9W|OverBling Sneaker...|\n",
            "|B011F9E6LI|MESSI 15.3 FG/AG ...|\n",
            "|B00HAUP1OI|Hoka One One Men'...|\n",
            "|B00L1RKOKW|Olukai Nohea Mesh...|\n",
            "|B005WA9MSE|Carolina Mens 6\" ...|\n",
            "|B00BEYQI5C|Alegria Women's S...|\n",
            "|B00EYAFTCQ|Naturalizer Women...|\n",
            "|B00I0QHY32|Forever Link Wome...|\n",
            "|B010FZZKYA|Versace Collectio...|\n",
            "|B00V8B30K2|Twisted Girl's Ch...|\n",
            "|B00LAVB1TC|Travel Smart Hand...|\n",
            "|B003C1P8B0|Saucony Originals...|\n",
            "|B000W3UL7W|Dr. Marten's Wome...|\n",
            "|B00LX65PQO|Skechers Performa...|\n",
            "|B00BEE7N3I|Hi-Tec Kid's Nepa...|\n",
            "|B008NCHMBW|Foot Sox Original...|\n",
            "+----------+--------------------+\n",
            "only showing top 20 rows\n",
            "\n"
          ]
        }
      ]
    },
    {
      "cell_type": "code",
      "source": [
        "#  To create customer_counts that was included in the Schema did a groupby\n",
        "customers = shoes_df.groupby(\"customer_id\").agg({\n",
        "    \"customer_id\": \"count\"\n",
        "    }).withColumnRenamed(\"count(customer_id)\", \"customer_count\")\n",
        "customers.show()\n"
      ],
      "metadata": {
        "colab": {
          "base_uri": "https://localhost:8080/"
        },
        "id": "r5oWzS5eNNgS",
        "outputId": "961764d7-0371-4a84-c0fc-cdd7b84fbe92"
      },
      "execution_count": 71,
      "outputs": [
        {
          "output_type": "stream",
          "name": "stdout",
          "text": [
            "+-----------+--------------+\n",
            "|customer_id|customer_count|\n",
            "+-----------+--------------+\n",
            "|   16121565|             5|\n",
            "|   48146680|             1|\n",
            "|   11062912|             1|\n",
            "|   51451778|             1|\n",
            "|   27920838|             1|\n",
            "|    4919528|             3|\n",
            "|   47802851|             2|\n",
            "|   42560427|             1|\n",
            "|   29467780|             1|\n",
            "|   49703087|            12|\n",
            "|   38456994|             4|\n",
            "|     557836|             1|\n",
            "|   43783459|             1|\n",
            "|   23607725|             1|\n",
            "|   45632184|             1|\n",
            "|   19979069|             2|\n",
            "|   28380959|             1|\n",
            "|   46563381|             1|\n",
            "|   21628739|             3|\n",
            "|   23042837|             2|\n",
            "+-----------+--------------+\n",
            "only showing top 20 rows\n",
            "\n"
          ]
        }
      ]
    },
    {
      "cell_type": "code",
      "source": [
        "# Create DataFrame to match Schema table \"vine_table\"\n",
        "vine_table = shoes_df.select([\"review_id\", \"star_rating\", \"helpful_votes\", \"total_votes\", \"vine\"])\n",
        "vine_table.show()"
      ],
      "metadata": {
        "colab": {
          "base_uri": "https://localhost:8080/"
        },
        "id": "gaAtrsfi661Z",
        "outputId": "117ddae4-6627-48f5-90dd-b3dc0d3b1fa1"
      },
      "execution_count": 72,
      "outputs": [
        {
          "output_type": "stream",
          "name": "stdout",
          "text": [
            "+--------------+-----------+-------------+-----------+----+\n",
            "|     review_id|star_rating|helpful_votes|total_votes|vine|\n",
            "+--------------+-----------+-------------+-----------+----+\n",
            "|R3P2HIOQCIN5ZU|          1|            0|          0|   N|\n",
            "|R12VVR0WH5Q24V|          5|            0|          0|   N|\n",
            "| RNCCKB6TV5EEF|          4|            0|          0|   N|\n",
            "|R2NZXYIVCGB13W|          5|            0|          6|   N|\n",
            "|R2EQ1TG9IT3OEQ|          3|            0|          0|   N|\n",
            "|R1WXA9JSC2H1U1|          5|            1|          1|   N|\n",
            "|R12ENYLFGGNWRV|          5|            1|          1|   N|\n",
            "|R2R07E5PNXEUO5|          4|            0|          0|   N|\n",
            "|R27BA52AKWMWN3|          5|            0|          0|   N|\n",
            "| RLF8DOID2KD5O|          3|            0|          0|   N|\n",
            "|R369CEXHXHC6NQ|          5|            0|          0|   N|\n",
            "|R171PPIJXFONVI|          5|            0|          0|   N|\n",
            "|R2JDNM8F2P06FU|          4|            1|          1|   N|\n",
            "|R2W977FO4M97XT|          5|            0|          1|   N|\n",
            "|R3AM24QPLI28UY|          2|            1|          2|   N|\n",
            "| REDVXSFYVNT5T|          5|            0|          0|   N|\n",
            "|R14AIIK7D6ENDZ|          5|            0|          0|   N|\n",
            "|R3B1NURKMCVAL1|          3|            2|          2|   N|\n",
            "|R14Q1GZGV10IMX|          4|            0|          0|   N|\n",
            "| R9BHBB06QD6TM|          1|            2|          2|   N|\n",
            "+--------------+-----------+-------------+-----------+----+\n",
            "only showing top 20 rows\n",
            "\n"
          ]
        }
      ]
    },
    {
      "cell_type": "code",
      "source": [
        "# Store environmental variable\n",
        "from getpass import getpass\n",
        "password = getpass('Enter database password')\n",
        "# Configure settings for RDS\n",
        "mode = \"append\"\n",
        "jdbc_url=\"jdbc:postgresql://myshoepostgresdb.cgqnrqyjvdcw.us-west-2.rds.amazonaws.com:5432/<database-name>\"\n",
        "config = {\"user\":\"postgres\",\n",
        "          \"password\": password,\n",
        "          \"driver\":\"org.postgresql.Driver\"}"
      ],
      "metadata": {
        "id": "CwGNuevG2dPh",
        "outputId": "ca48ca88-d656-47f6-dd31-4a43942f485a",
        "colab": {
          "base_uri": "https://localhost:8080/"
        }
      },
      "execution_count": 76,
      "outputs": [
        {
          "name": "stdout",
          "output_type": "stream",
          "text": [
            "Enter database password··········\n"
          ]
        }
      ]
    },
    {
      "cell_type": "code",
      "source": [
        "# Write tables into an RDS instance for \"review_id_table\",\"products\",\"customers\",\"vine_table\""
      ],
      "metadata": {
        "id": "XxjI2XwVB0_r"
      },
      "execution_count": null,
      "outputs": []
    },
    {
      "cell_type": "code",
      "source": [
        "review_id_table.write.jdbc(url=jdbc_url, table='review_id_table', mode=mode, properties=config)"
      ],
      "metadata": {
        "id": "QZCLLs3e66T1"
      },
      "execution_count": 62,
      "outputs": []
    },
    {
      "cell_type": "code",
      "source": [
        "# Drop duplicate values for table \"product\"\n",
        "products = products.dropDuplicates()"
      ],
      "metadata": {
        "id": "vIcn0o1c0HOn"
      },
      "execution_count": 73,
      "outputs": []
    },
    {
      "cell_type": "code",
      "source": [
        "products.write.jdbc(url=jdbc_url, table='products', mode=mode, properties=config)"
      ],
      "metadata": {
        "id": "mc6Q4Ak8_a4I"
      },
      "execution_count": 65,
      "outputs": []
    },
    {
      "cell_type": "code",
      "source": [
        "customers.write.jdbc(url=jdbc_url, table='customers', mode=mode, properties=config)"
      ],
      "metadata": {
        "id": "E427ew5y_axQ"
      },
      "execution_count": 66,
      "outputs": []
    },
    {
      "cell_type": "code",
      "source": [
        "vine_table.write.jdbc(url=jdbc_url, table='vine_table', mode=mode, properties=config)"
      ],
      "metadata": {
        "id": "zSKg66YU_anu"
      },
      "execution_count": 67,
      "outputs": []
    }
  ]
}