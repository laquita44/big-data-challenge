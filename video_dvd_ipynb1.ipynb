{
  "nbformat": 4,
  "nbformat_minor": 0,
  "metadata": {
    "colab": {
      "name": "video_dvd.ipynb1",
      "provenance": [],
      "authorship_tag": "ABX9TyPm7S5inb76WuH1/r/8MBNp",
      "include_colab_link": true
    },
    "kernelspec": {
      "name": "python3",
      "display_name": "Python 3"
    },
    "language_info": {
      "name": "python"
    }
  },
  "cells": [
    {
      "cell_type": "markdown",
      "metadata": {
        "id": "view-in-github",
        "colab_type": "text"
      },
      "source": [
        "<a href=\"https://colab.research.google.com/github/laquita44/big-data-challenge/blob/main/video_dvd_ipynb1.ipynb\" target=\"_parent\"><img src=\"https://colab.research.google.com/assets/colab-badge.svg\" alt=\"Open In Colab\"/></a>"
      ]
    },
    {
      "cell_type": "code",
      "execution_count": 1,
      "metadata": {
        "colab": {
          "base_uri": "https://localhost:8080/"
        },
        "id": "Cf-3h6JNG1UR",
        "outputId": "b3e3efeb-2b3d-455a-b7ad-d14dcd62bde3"
      },
      "outputs": [
        {
          "output_type": "stream",
          "name": "stdout",
          "text": [
            "\r0% [Working]\r            \rGet:1 http://security.ubuntu.com/ubuntu bionic-security InRelease [88.7 kB]\n",
            "Get:2 https://cloud.r-project.org/bin/linux/ubuntu bionic-cran40/ InRelease [3,626 B]\n",
            "Ign:3 https://developer.download.nvidia.com/compute/cuda/repos/ubuntu1804/x86_64  InRelease\n",
            "Hit:4 http://archive.ubuntu.com/ubuntu bionic InRelease\n",
            "Get:5 http://ppa.launchpad.net/c2d4u.team/c2d4u4.0+/ubuntu bionic InRelease [15.9 kB]\n",
            "Ign:6 https://developer.download.nvidia.com/compute/machine-learning/repos/ubuntu1804/x86_64  InRelease\n",
            "Get:7 https://developer.download.nvidia.com/compute/cuda/repos/ubuntu1804/x86_64  Release [696 B]\n",
            "Hit:8 https://developer.download.nvidia.com/compute/machine-learning/repos/ubuntu1804/x86_64  Release\n",
            "Get:9 https://developer.download.nvidia.com/compute/cuda/repos/ubuntu1804/x86_64  Release.gpg [836 B]\n",
            "Get:10 http://archive.ubuntu.com/ubuntu bionic-updates InRelease [88.7 kB]\n",
            "Hit:11 http://ppa.launchpad.net/cran/libgit2/ubuntu bionic InRelease\n",
            "Get:12 http://archive.ubuntu.com/ubuntu bionic-backports InRelease [74.6 kB]\n",
            "Get:13 http://ppa.launchpad.net/deadsnakes/ppa/ubuntu bionic InRelease [15.9 kB]\n",
            "Get:14 https://cloud.r-project.org/bin/linux/ubuntu bionic-cran40/ Packages [82.3 kB]\n",
            "Get:15 http://ppa.launchpad.net/graphics-drivers/ppa/ubuntu bionic InRelease [21.3 kB]\n",
            "Get:16 http://security.ubuntu.com/ubuntu bionic-security/universe amd64 Packages [1,490 kB]\n",
            "Get:17 http://security.ubuntu.com/ubuntu bionic-security/main amd64 Packages [2,694 kB]\n",
            "Get:18 http://security.ubuntu.com/ubuntu bionic-security/restricted amd64 Packages [884 kB]\n",
            "Get:20 https://developer.download.nvidia.com/compute/cuda/repos/ubuntu1804/x86_64  Packages [952 kB]\n",
            "Get:21 http://ppa.launchpad.net/c2d4u.team/c2d4u4.0+/ubuntu bionic/main Sources [1,831 kB]\n",
            "Get:22 http://archive.ubuntu.com/ubuntu bionic-updates/main amd64 Packages [3,133 kB]\n",
            "Get:23 http://ppa.launchpad.net/c2d4u.team/c2d4u4.0+/ubuntu bionic/main amd64 Packages [938 kB]\n",
            "Get:24 http://archive.ubuntu.com/ubuntu bionic-updates/multiverse amd64 Packages [29.8 kB]\n",
            "Get:25 http://archive.ubuntu.com/ubuntu bionic-updates/restricted amd64 Packages [918 kB]\n",
            "Get:26 http://archive.ubuntu.com/ubuntu bionic-updates/universe amd64 Packages [2,268 kB]\n",
            "Get:27 http://archive.ubuntu.com/ubuntu bionic-backports/main amd64 Packages [12.2 kB]\n",
            "Get:28 http://archive.ubuntu.com/ubuntu bionic-backports/universe amd64 Packages [12.9 kB]\n",
            "Get:29 http://ppa.launchpad.net/deadsnakes/ppa/ubuntu bionic/main amd64 Packages [45.2 kB]\n",
            "Get:30 http://ppa.launchpad.net/graphics-drivers/ppa/ubuntu bionic/main amd64 Packages [44.3 kB]\n",
            "Fetched 15.6 MB in 7s (2,385 kB/s)\n",
            "Reading package lists... Done\n"
          ]
        }
      ],
      "source": [
        "import os\n",
        "# Find the latest version of spark 3.0  from http://www.apache.org/dist/spark/ and enter as the spark version\n",
        "# For example:\n",
        "spark_version = 'spark-3.0.3'\n",
        "# spark_version = 'spark-3.<enter version>'\n",
        "os.environ['SPARK_VERSION']=spark_version\n",
        "\n",
        "# Install Spark and Java\n",
        "!apt-get update\n",
        "!apt-get install openjdk-8-jdk-headless -qq > /dev/null\n",
        "!wget -q http://www.apache.org/dist/spark/$SPARK_VERSION/$SPARK_VERSION-bin-hadoop2.7.tgz\n",
        "!tar xf $SPARK_VERSION-bin-hadoop2.7.tgz\n",
        "!pip install -q findspark\n",
        "\n",
        "# Set Environment Variables\n",
        "import os\n",
        "os.environ[\"JAVA_HOME\"] = \"/usr/lib/jvm/java-8-openjdk-amd64\"\n",
        "os.environ[\"SPARK_HOME\"] = f\"/content/{spark_version}-bin-hadoop2.7\"\n",
        "\n",
        "# Start a SparkSession\n",
        "import findspark\n",
        "findspark.init()"
      ]
    },
    {
      "cell_type": "code",
      "source": [
        "# For connection to Postgres run the following code \n",
        "!wget https://jdbc.postgresql.org/download/postgresql-42.2.9.jar"
      ],
      "metadata": {
        "colab": {
          "base_uri": "https://localhost:8080/"
        },
        "id": "i5chSKArJSWk",
        "outputId": "47c51fb8-56df-412c-fe97-4b5dcfa7f228"
      },
      "execution_count": 2,
      "outputs": [
        {
          "output_type": "stream",
          "name": "stdout",
          "text": [
            "--2022-04-09 02:27:22--  https://jdbc.postgresql.org/download/postgresql-42.2.9.jar\n",
            "Resolving jdbc.postgresql.org (jdbc.postgresql.org)... 72.32.157.228, 2001:4800:3e1:1::228\n",
            "Connecting to jdbc.postgresql.org (jdbc.postgresql.org)|72.32.157.228|:443... connected.\n",
            "HTTP request sent, awaiting response... 200 OK\n",
            "Length: 914037 (893K) [application/java-archive]\n",
            "Saving to: ‘postgresql-42.2.9.jar’\n",
            "\n",
            "postgresql-42.2.9.j 100%[===================>] 892.61K  --.-KB/s    in 0.1s    \n",
            "\n",
            "2022-04-09 02:27:23 (6.01 MB/s) - ‘postgresql-42.2.9.jar’ saved [914037/914037]\n",
            "\n"
          ]
        }
      ]
    },
    {
      "cell_type": "code",
      "source": [
        "from pyspark.sql import SparkSession\n",
        "spark = SparkSession.builder.appName(\"CloudETL\").config(\"spark.driver.extraClassPath\",\"/content/postgresql-42.2.9.jar\").getOrCreate()"
      ],
      "metadata": {
        "id": "S6Hbq8kJJSUv"
      },
      "execution_count": 3,
      "outputs": []
    },
    {
      "cell_type": "code",
      "source": [
        "# Read in data from S3 Buckets\n",
        "from pyspark import SparkFiles\n",
        "url = \"https://shoe-inventory-1.s3.us-west-2.amazonaws.com/amazon_reviews_us_Video_DVD_v1_00.tsv.gz\"\n",
        "spark.sparkContext.addFile(url)\n",
        "\n",
        "# Show Dataframe\n",
        "video_dvd_df = spark.read.option('header', 'true').csv(SparkFiles.get(\"amazon_reviews_us_Video_DVD_v1_00.tsv.gz\"), inferSchema=True, sep='\\t', timestampFormat=\"yyyy-mm-dd\")\n",
        "video_dvd_df.show()\n"
      ],
      "metadata": {
        "colab": {
          "base_uri": "https://localhost:8080/"
        },
        "id": "7nhkhd9zJSR8",
        "outputId": "4be47dff-10f2-48ae-da0c-450bafba7765"
      },
      "execution_count": 4,
      "outputs": [
        {
          "output_type": "stream",
          "name": "stdout",
          "text": [
            "+-----------+-----------+--------------+----------+--------------+--------------------+----------------+-----------+-------------+-----------+----+-----------------+--------------------+--------------------+-------------------+\n",
            "|marketplace|customer_id|     review_id|product_id|product_parent|       product_title|product_category|star_rating|helpful_votes|total_votes|vine|verified_purchase|     review_headline|         review_body|        review_date|\n",
            "+-----------+-----------+--------------+----------+--------------+--------------------+----------------+-----------+-------------+-----------+----+-----------------+--------------------+--------------------+-------------------+\n",
            "|         US|   27288431| R33UPQQUZQEM8|B005T4ND06|     400024643|Yoga for Movement...|       Video DVD|          5|            3|          3|   N|                Y|This was a gift f...|This was a gift f...|2015-01-31 00:08:00|\n",
            "|         US|   13722556|R3IKTNQQPD9662|B004EPZ070|     685335564|  Something Borrowed|       Video DVD|          5|            0|          0|   N|                Y|          Five Stars| Teats my heart out.|2015-01-31 00:08:00|\n",
            "|         US|   20381037|R3U27V5QMCP27T|B005S9EKCW|     922008804|Les Miserables (2...|       Video DVD|          5|            1|          1|   N|                Y|        Great movie!|        Great movie.|2015-01-31 00:08:00|\n",
            "|         US|   24852644|R2TOH2QKNK4IOC|B00FC1ZCB4|     326560548|Alien Anthology a...|       Video DVD|          5|            0|          1|   N|                Y|             Amazing|My husband was so...|2015-01-31 00:08:00|\n",
            "|         US|   15556113|R2XQG5NJ59UFMY|B002ZG98Z0|     637495038|  Sex and the City 2|       Video DVD|          5|            0|          0|   N|                Y|          Five Stars|   Love this series.|2015-01-31 00:08:00|\n",
            "|         US|    6132474|R1N1KHBRR4ZTX3|B00X8RONBO|     896602391|When Calls The He...|       Video DVD|          5|            0|          0|   N|                Y|          Five Stars|            love it!|2015-01-31 00:08:00|\n",
            "|         US|   48049524|R3OM9S0TCBP38K|B000CEXFZG|     115883890|Teen Titans - The...|       Video DVD|          5|            0|          0|   N|                Y|               Great|Better than the c...|2015-01-31 00:08:00|\n",
            "|         US|    3282516|R1W4S949ZRCTBW|B00ID8H8EW|     977932459|      Generation War|       Video DVD|          5|            0|          0|   N|                Y|          Five Stars|I really emjoyed ...|2015-01-31 00:08:00|\n",
            "|         US|   51771179|R18JL1NNQAZFV2|B000TGJ8IU|     840084782|Troy  (Director's...|       Video DVD|          5|            0|          0|   N|                Y|          Five Stars|Awesome movie, we...|2015-01-31 00:08:00|\n",
            "|         US|   31816501|R1LP6PR06OPYUX|B00DPMPTDS|     262144920|Faith Aka the Gre...|       Video DVD|          4|            0|          0|   N|                Y|a beautiful fanta...|...a beautiful fa...|2015-01-31 00:08:00|\n",
            "|         US|   16164990| RZKBT035JA0UQ|B00X797LUS|     883589001|   Revenge: Season 4|       Video DVD|          5|            1|          2|   N|                Y|  It's a hit with me|I don't usually w...|2015-01-31 00:08:00|\n",
            "|         US|   33386989|R253N5W74SM7N3|B00C6MXB42|     734735137|YOUNG INDIANA JON...|       Video DVD|          4|            1|          1|   N|                Y|great stuff. I th...|great stuff.  I t...|2015-01-31 00:08:00|\n",
            "|         US|   45486371|R2D5IFTFPHD3RN|B000EZ9084|     821764517|     Survival Island|       Video DVD|          4|            1|          1|   N|                Y|          Four Stars|           very good|2015-01-31 00:08:00|\n",
            "|         US|   14006420|R1CECK3H1URK1G|B000CEXFZG|     115883890|Teen Titans - The...|       Video DVD|          5|            0|          0|   N|                Y|          Five Stars|Kids love the DVD...|2015-01-31 00:08:00|\n",
            "|         US|   23411619|R11MHQRE45204T|B00KXEM6XM|     651533797|     Fargo: Season 1|       Video DVD|          5|            0|          0|   N|                Y|A wonderful cover...|Great news Fargo ...|2015-01-31 00:08:00|\n",
            "|         US|    3202332| RSX9F068J0GXJ|B0036K9CM8|     231498541|Disney Parks: The...|       Video DVD|          5|            0|          0|   N|                Y|We love Disney an...|We love Disney an...|2015-01-31 00:08:00|\n",
            "|         US|   32012808|R1TUMFHZBBOWKL|B00G3HOJZ6|     847624020|Young Detective D...|       Video DVD|          5|            0|          0|   N|                Y|Excellent Movie f...|This is a surpris...|2015-01-31 00:08:00|\n",
            "|         US|   36507765| R8IZ1G1TWGK0E|B00V5E7YR2|     478422254|The Divergent Ser...|       Video DVD|          5|            0|          0|   N|                Y|          Five Stars|          Good movie|2015-01-31 00:08:00|\n",
            "|         US|   13696097|R1CBN0585B7BI4|B005BUA1JY|     700104332|Barney Miller: Th...|       Video DVD|          5|            0|          1|   N|                Y|          Five Stars|This show is a cl...|2015-01-31 00:08:00|\n",
            "|         US|    2190805|R2PJOAZ9I3D8O8|B00YCY46VO|     710263340|Inside Out (Blu-r...|       Video DVD|          5|            2|          2|   N|                N|An Instant Master...|Inside Out revolv...|2015-01-31 00:08:00|\n",
            "+-----------+-----------+--------------+----------+--------------+--------------------+----------------+-----------+-------------+-----------+----+-----------------+--------------------+--------------------+-------------------+\n",
            "only showing top 20 rows\n",
            "\n"
          ]
        }
      ]
    },
    {
      "cell_type": "code",
      "source": [
        "# Count the number of records (rows) in the dataset\n",
        "video_dvd_df.count()\n",
        "\n"
      ],
      "metadata": {
        "colab": {
          "base_uri": "https://localhost:8080/"
        },
        "id": "ff1DkNvouBkG",
        "outputId": "c16c2067-904c-4359-e0a8-e64c0b1c5bd8"
      },
      "execution_count": 7,
      "outputs": [
        {
          "output_type": "execute_result",
          "data": {
            "text/plain": [
              "5069140"
            ]
          },
          "metadata": {},
          "execution_count": 7
        }
      ]
    },
    {
      "cell_type": "code",
      "source": [
        "# Drop Null values\n",
        "video_dvd_df =video_dvd_df.dropna()\n",
        "video_dvd_df.count()"
      ],
      "metadata": {
        "colab": {
          "base_uri": "https://localhost:8080/"
        },
        "id": "jdufY7eeMtAl",
        "outputId": "795daf49-eee4-4f7b-e6d7-20330736539d"
      },
      "execution_count": 13,
      "outputs": [
        {
          "output_type": "execute_result",
          "data": {
            "text/plain": [
              "5068421"
            ]
          },
          "metadata": {},
          "execution_count": 13
        }
      ]
    },
    {
      "cell_type": "code",
      "source": [
        "# Dropping all duplicates\n",
        "video_dvd_df= video_dvd_df.dropDuplicates()\n",
        "print(video_dvd_df.count())"
      ],
      "metadata": {
        "colab": {
          "base_uri": "https://localhost:8080/"
        },
        "id": "T-nzFQumJSPW",
        "outputId": "14c34f1f-ff52-4c59-cfa9-8a40a97a0833"
      },
      "execution_count": 12,
      "outputs": [
        {
          "output_type": "stream",
          "name": "stdout",
          "text": [
            "5068421\n"
          ]
        }
      ]
    },
    {
      "cell_type": "code",
      "source": [
        "# check data type for schema\n",
        "video_dvd_df.printSchema()"
      ],
      "metadata": {
        "colab": {
          "base_uri": "https://localhost:8080/"
        },
        "id": "xrMfvzozJSMr",
        "outputId": "a93ae4d4-100b-4c76-bff2-0886cf905f7d"
      },
      "execution_count": 14,
      "outputs": [
        {
          "output_type": "stream",
          "name": "stdout",
          "text": [
            "root\n",
            " |-- marketplace: string (nullable = true)\n",
            " |-- customer_id: integer (nullable = true)\n",
            " |-- review_id: string (nullable = true)\n",
            " |-- product_id: string (nullable = true)\n",
            " |-- product_parent: integer (nullable = true)\n",
            " |-- product_title: string (nullable = true)\n",
            " |-- product_category: string (nullable = true)\n",
            " |-- star_rating: integer (nullable = true)\n",
            " |-- helpful_votes: integer (nullable = true)\n",
            " |-- total_votes: integer (nullable = true)\n",
            " |-- vine: string (nullable = true)\n",
            " |-- verified_purchase: string (nullable = true)\n",
            " |-- review_headline: string (nullable = true)\n",
            " |-- review_body: string (nullable = true)\n",
            " |-- review_date: timestamp (nullable = true)\n",
            "\n"
          ]
        }
      ]
    },
    {
      "cell_type": "code",
      "source": [
        "# Transform the dataset to fit the tables in the schema file. Be sure the DataFrames match in data type and in column name\n",
        "from pyspark.sql.types import TimestampType, IntegerType\n",
        "\n",
        "video_dvd_df = video_dvd_df.withColumn(\"customer_id\", video_dvd_df[\"customer_id\"].cast(IntegerType()))\\\n",
        "       .withColumn(\"product_parent\", video_dvd_df[\"product_parent\"].cast(IntegerType()))\\\n",
        "       .withColumn(\"review_date\", video_dvd_df[\"review_date\"].cast(TimestampType()))\\\n",
        "       .withColumn(\"star_rating\", video_dvd_df[\"star_rating\"].cast(IntegerType()))\\\n",
        "       .withColumn(\"helpful_votes\", video_dvd_df[\"helpful_votes\"].cast(IntegerType()))\\\n",
        "       .withColumn(\"total_votes\", video_dvd_df[\"total_votes\"].cast(IntegerType()))\\"
      ],
      "metadata": {
        "id": "c91oLI1VJSKB"
      },
      "execution_count": 15,
      "outputs": []
    },
    {
      "cell_type": "code",
      "source": [
        "# Create DataFrame to match Schema table \"review_id_table\"\n",
        "review_id_table = video_dvd_df.select([\"review_id\", \"customer_id\", \"product_id\", \"product_parent\", \"review_date\"])\n",
        "review_id_table.show()"
      ],
      "metadata": {
        "colab": {
          "base_uri": "https://localhost:8080/"
        },
        "id": "0606O2zwJSHd",
        "outputId": "10200406-66a3-4aa7-86d1-edac8c94699d"
      },
      "execution_count": 16,
      "outputs": [
        {
          "output_type": "stream",
          "name": "stdout",
          "text": [
            "+--------------+-----------+----------+--------------+-------------------+\n",
            "|     review_id|customer_id|product_id|product_parent|        review_date|\n",
            "+--------------+-----------+----------+--------------+-------------------+\n",
            "|R1009B8D7RFEI0|   14024341|B007VYEF04|     846810490|2014-01-09 00:07:00|\n",
            "|R100DVG1NXE56E|   11909676|3898489698|      94759122|2013-01-02 00:03:00|\n",
            "|R100ILTQB05R4L|   49939297|B008GY8R98|     924905461|2013-01-07 00:01:00|\n",
            "|R100IT9FL8SC52|   21781238|B0021L8UYY|     155537186|2010-01-26 00:06:00|\n",
            "|R100JPWF4UCZ8C|   29863328|B0011NVC4S|     465719056|2012-01-26 00:11:00|\n",
            "|R100P72WHOOF9B|   47809022|B0001DCYN2|      64288116|2014-01-15 00:08:00|\n",
            "|R100SVJ9ATFTOE|   51130152|B00008AOR6|     629946525|2014-01-07 00:10:00|\n",
            "|R100YM4OGSIP8I|   12240791|B00SGM38S0|     993804039|2015-01-27 00:01:00|\n",
            "|R101JSFWMNCW9A|   44680673|B000R7G6K4|     104975481|2009-01-24 00:11:00|\n",
            "|R101OFQ19FDGRC|   43577749|B000OIOPKO|     685867774|2010-01-10 00:02:00|\n",
            "|R102088FSMI6PM|   23037326|B000GPIPTM|     922254741|2012-01-14 00:10:00|\n",
            "|R1023GIP6L8IWC|   14571091|B00077BPD2|     278233782|2014-01-09 00:12:00|\n",
            "|R1027RJH8MO373|   42612274|B0001ZZ4OG|     157153525|2011-01-24 00:01:00|\n",
            "|R1028S799242Y6|   49981257|630528072X|     645417811|2003-01-18 00:11:00|\n",
            "|R102KTS399W1J6|   29813766|B005DZ35UE|     555384792|2011-01-10 00:11:00|\n",
            "|R102NLSLCUCVTU|    7342730|B001TUZI20|     145178972|2014-01-17 00:01:00|\n",
            "|R102SP84NRBKMW|   16327662|B000TKRIVK|     332493143|2009-01-18 00:05:00|\n",
            "|R102VTGQ4MJNEZ|   50281295|B005LAII2Q|     842187357|2012-01-18 00:11:00|\n",
            "|R10360F7EQ85MQ|   40818188|6305236569|     661295410|2014-01-11 00:09:00|\n",
            "|R103MR0EJ4JB98|   33346266|B00006FMB1|     419371863|2009-01-04 00:05:00|\n",
            "+--------------+-----------+----------+--------------+-------------------+\n",
            "only showing top 20 rows\n",
            "\n"
          ]
        }
      ]
    },
    {
      "cell_type": "code",
      "source": [
        "# Create DataFrame to match Schema table \"products\"\n",
        "products = video_dvd_df.select([\"product_id\", \"product_title\"])\n",
        "products.show()"
      ],
      "metadata": {
        "colab": {
          "base_uri": "https://localhost:8080/"
        },
        "id": "2QnJTL59JSE-",
        "outputId": "b8f3017b-64c5-424c-882c-40cd96080618"
      },
      "execution_count": 18,
      "outputs": [
        {
          "output_type": "stream",
          "name": "stdout",
          "text": [
            "+----------+--------------------+\n",
            "|product_id|       product_title|\n",
            "+----------+--------------------+\n",
            "|B007VYEF04|Ken Burns: The Du...|\n",
            "|3898489698|Harun Farocki Fil...|\n",
            "|B008GY8R98|Die Meistersinger...|\n",
            "|B0021L8UYY|      The Stepfather|\n",
            "|B0011NVC4S|SS Hell Pack Trip...|\n",
            "|B0001DCYN2|        Navajo Blues|\n",
            "|B00008AOR6|The Righteous Bro...|\n",
            "|B00SGM38S0|J. Brown's Yoga D...|\n",
            "|B000R7G6K4|Mr. Magoo's Chris...|\n",
            "|B000OIOPKO|Hopalong Cassidy ...|\n",
            "|B000GPIPTM|Scrubs - The Comp...|\n",
            "|B00077BPD2|John Pinette - I ...|\n",
            "|B0001ZZ4OG|Fleetwood Mac - U...|\n",
            "|630528072X|             Volcano|\n",
            "|B005DZ35UE|Thomas & Friends:...|\n",
            "|B001TUZI20| Notorious [Blu-ray]|\n",
            "|B000TKRIVK|    The UFO Cover Up|\n",
            "|B005LAII2Q|           The Watch|\n",
            "|6305236569|           Overboard|\n",
            "|B00006FMB1|Basic Ab Workout ...|\n",
            "+----------+--------------------+\n",
            "only showing top 20 rows\n",
            "\n"
          ]
        }
      ]
    },
    {
      "cell_type": "code",
      "source": [
        "#  To create customer_counts that was included in the Schema did a groupby\n",
        "customers = video_dvd_df.groupby(\"customer_id\").agg({\n",
        "    \"customer_id\": \"count\"\n",
        "    }).withColumnRenamed(\"count(customer_id)\", \"customer_count\")\n",
        "customers.show()\n"
      ],
      "metadata": {
        "colab": {
          "base_uri": "https://localhost:8080/"
        },
        "id": "mxN4wFhaJSCN",
        "outputId": "026f35ac-5d47-4b52-8f59-4f382e0c3d2d"
      },
      "execution_count": 19,
      "outputs": [
        {
          "output_type": "stream",
          "name": "stdout",
          "text": [
            "+-----------+--------------+\n",
            "|customer_id|customer_count|\n",
            "+-----------+--------------+\n",
            "|   17972482|             1|\n",
            "|   44674947|           228|\n",
            "|    1465471|            58|\n",
            "|   29339567|             1|\n",
            "|   18800155|            35|\n",
            "|   17669225|             2|\n",
            "|   37074828|             1|\n",
            "|   40371408|             6|\n",
            "|   51680053|            66|\n",
            "|   12051568|             1|\n",
            "|   49455997|             1|\n",
            "|   29399387|             6|\n",
            "|   25591092|             8|\n",
            "|   50656151|             1|\n",
            "|   38726434|             1|\n",
            "|   50991338|            37|\n",
            "|   10522786|            10|\n",
            "|   20349924|           117|\n",
            "|   51667424|           438|\n",
            "|   52816423|             3|\n",
            "+-----------+--------------+\n",
            "only showing top 20 rows\n",
            "\n"
          ]
        }
      ]
    },
    {
      "cell_type": "code",
      "source": [
        "# Create DataFrame to match Schema table \"vine_table\"\n",
        "vine_table = video_dvd_df.select([\"review_id\", \"star_rating\", \"helpful_votes\", \"total_votes\", \"vine\"])\n",
        "vine_table.show()"
      ],
      "metadata": {
        "colab": {
          "base_uri": "https://localhost:8080/"
        },
        "id": "KsDj56z8JR_j",
        "outputId": "dd1fec2a-9315-40dc-9713-d2d7c4110fef"
      },
      "execution_count": 20,
      "outputs": [
        {
          "output_type": "stream",
          "name": "stdout",
          "text": [
            "+--------------+-----------+-------------+-----------+----+\n",
            "|     review_id|star_rating|helpful_votes|total_votes|vine|\n",
            "+--------------+-----------+-------------+-----------+----+\n",
            "|R1009B8D7RFEI0|          5|            0|          0|   N|\n",
            "|R100DVG1NXE56E|          2|            9|          9|   N|\n",
            "|R100ILTQB05R4L|          5|            5|          9|   N|\n",
            "|R100IT9FL8SC52|          2|            1|          2|   N|\n",
            "|R100JPWF4UCZ8C|          5|            0|          1|   N|\n",
            "|R100P72WHOOF9B|          5|            0|          0|   N|\n",
            "|R100SVJ9ATFTOE|          4|            0|          0|   N|\n",
            "|R100YM4OGSIP8I|          5|            0|          1|   N|\n",
            "|R101JSFWMNCW9A|          5|            1|          1|   N|\n",
            "|R101OFQ19FDGRC|          5|            0|          0|   N|\n",
            "|R102088FSMI6PM|          5|            0|          0|   N|\n",
            "|R1023GIP6L8IWC|          5|            0|          0|   N|\n",
            "|R1027RJH8MO373|          3|            0|          1|   N|\n",
            "|R1028S799242Y6|          3|            2|          4|   N|\n",
            "|R102KTS399W1J6|          1|            4|         10|   N|\n",
            "|R102NLSLCUCVTU|          5|            0|          0|   N|\n",
            "|R102SP84NRBKMW|          5|            0|          1|   N|\n",
            "|R102VTGQ4MJNEZ|          2|            0|          1|   N|\n",
            "|R10360F7EQ85MQ|          5|            0|          0|   N|\n",
            "|R103MR0EJ4JB98|          3|            2|          4|   N|\n",
            "+--------------+-----------+-------------+-----------+----+\n",
            "only showing top 20 rows\n",
            "\n"
          ]
        }
      ]
    },
    {
      "cell_type": "code",
      "source": [
        "# Store environmental variable\n",
        "from getpass import getpass\n",
        "password = getpass('Enter database password')\n",
        "# Configure settings for RDS\n",
        "mode = \"append\"\n",
        "jdbc_url=\"jdbc:postgresql://myshoepostgresdb.cgqnrqyjvdcw.us-west-2.rds.amazonaws.com:5432/video_dvd_db\"\n",
        "config = {\"user\":\"root\",\n",
        "          \"password\": password,\n",
        "          \"driver\":\"org.postgresql.Driver\"}"
      ],
      "metadata": {
        "colab": {
          "base_uri": "https://localhost:8080/"
        },
        "id": "8Hng8avd4wff",
        "outputId": "7864ce20-bfab-4c0d-d2f3-b49344b7a08a"
      },
      "execution_count": 28,
      "outputs": [
        {
          "name": "stdout",
          "output_type": "stream",
          "text": [
            "Enter database password··········\n"
          ]
        }
      ]
    },
    {
      "cell_type": "code",
      "source": [
        "# Write DataFrame to table\n",
        "review_id_table.write.jdbc(url=jdbc_url, table='review_id_table', mode=mode, properties=config)"
      ],
      "metadata": {
        "id": "vrMK6mnLJR5y"
      },
      "execution_count": 22,
      "outputs": []
    },
    {
      "cell_type": "code",
      "source": [
        "# Drop duplicate values for table \"product\"\n",
        "products = products.dropDuplicates()"
      ],
      "metadata": {
        "id": "potOcQwCe3e9"
      },
      "execution_count": 24,
      "outputs": []
    },
    {
      "cell_type": "code",
      "source": [
        "# Write DataFrame to table\n",
        "products.write.jdbc(url=jdbc_url, table='products', mode=mode, properties=config)"
      ],
      "metadata": {
        "id": "oUVJZPSBJR0Q"
      },
      "execution_count": 25,
      "outputs": []
    },
    {
      "cell_type": "code",
      "source": [
        "# Write DataFrame to table\n",
        "customers.write.jdbc(url=jdbc_url, table='customers', mode=mode, properties=config)"
      ],
      "metadata": {
        "id": "upIJBkCYJRw3"
      },
      "execution_count": 26,
      "outputs": []
    },
    {
      "cell_type": "code",
      "source": [
        "# Write DataFrame to table\n",
        "vine_table.write.jdbc(url=jdbc_url, table='vine_table', mode=mode, properties=config)"
      ],
      "metadata": {
        "id": "GBuAi4TCJRtW"
      },
      "execution_count": 27,
      "outputs": []
    }
  ]
}